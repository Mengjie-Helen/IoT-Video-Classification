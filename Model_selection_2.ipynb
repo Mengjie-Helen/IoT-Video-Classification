{
  "nbformat": 4,
  "nbformat_minor": 0,
  "metadata": {
    "colab": {
      "name": "Model selection_2",
      "provenance": [],
      "collapsed_sections": [],
      "authorship_tag": "ABX9TyPEbv4UXk/EYOqSWmoPL7qS",
      "include_colab_link": true
    },
    "kernelspec": {
      "name": "python3",
      "display_name": "Python 3"
    },
    "language_info": {
      "name": "python"
    }
  },
  "cells": [
    {
      "cell_type": "markdown",
      "metadata": {
        "id": "view-in-github",
        "colab_type": "text"
      },
      "source": [
        "<a href=\"https://colab.research.google.com/github/Mengjie-Helen/IoT-Video-Classification/blob/main/Model_selection_2.ipynb\" target=\"_parent\"><img src=\"https://colab.research.google.com/assets/colab-badge.svg\" alt=\"Open In Colab\"/></a>"
      ]
    },
    {
      "cell_type": "code",
      "execution_count": null,
      "metadata": {
        "colab": {
          "base_uri": "https://localhost:8080/"
        },
        "id": "zKnOeUsrXWu8",
        "outputId": "a9ef5adb-aaba-42af-9810-945377e8b531"
      },
      "outputs": [
        {
          "output_type": "stream",
          "name": "stdout",
          "text": [
            "Mounted at /content/drive\n"
          ]
        }
      ],
      "source": [
        "from google.colab import drive\n",
        "drive.mount('/content/drive')"
      ]
    },
    {
      "cell_type": "code",
      "source": [
        "import os\n",
        "os.listdir('/content/drive/My Drive/Iot_Checkpoints/')"
      ],
      "metadata": {
        "colab": {
          "base_uri": "https://localhost:8080/"
        },
        "id": "3oxP_rNwXhm5",
        "outputId": "5b1a0138-7df2-4311-de75-f686ffdd6805"
      },
      "execution_count": null,
      "outputs": [
        {
          "output_type": "execute_result",
          "data": {
            "text/plain": [
              "['SubSampled_Videos']"
            ]
          },
          "metadata": {},
          "execution_count": 2
        }
      ]
    },
    {
      "cell_type": "markdown",
      "source": [
        "Featurization"
      ],
      "metadata": {
        "id": "L0gdPclofGRX"
      }
    },
    {
      "cell_type": "code",
      "source": [
        "DATASET_no_interaction = '/content/drive/My Drive/Iot_Checkpoints/SubSampled_Videos/no_interaction_features'\n",
        "os.listdir(DATASET_no_interaction)[:4]"
      ],
      "metadata": {
        "colab": {
          "base_uri": "https://localhost:8080/"
        },
        "id": "j97VqfWnYboM",
        "outputId": "643d6cb9-c96f-41af-a1fa-ea52e8b95519"
      },
      "execution_count": null,
      "outputs": [
        {
          "output_type": "execute_result",
          "data": {
            "text/plain": [
              "['SubSampled_no_interaction_2_1616182454_1.mp4.npz',\n",
              " 'SubSampled_no_interaction_9_1616182974_1.mp4.npz',\n",
              " 'SubSampled_no_interaction_10_1616183029_1.mp4.npz',\n",
              " 'SubSampled_no_interaction_5_1616182692_1.mp4.npz']"
            ]
          },
          "metadata": {},
          "execution_count": 3
        }
      ]
    },
    {
      "cell_type": "code",
      "source": [
        "%cd /content/drive/My Drive/Iot_Checkpoints/SubSampled_Videos/no_interaction_features\n",
        "os.listdir('.')[:4]"
      ],
      "metadata": {
        "colab": {
          "base_uri": "https://localhost:8080/"
        },
        "id": "xZeMbgaCYjkg",
        "outputId": "b2448597-ef98-46d3-dc12-45f00809def6"
      },
      "execution_count": null,
      "outputs": [
        {
          "output_type": "stream",
          "name": "stdout",
          "text": [
            "/content/drive/.shortcut-targets-by-id/11uoUjnXa_0JKiMnhEb2WiTNyACQRegAl/Iot_Checkpoints/SubSampled_Videos/no_interaction_features\n"
          ]
        },
        {
          "output_type": "execute_result",
          "data": {
            "text/plain": [
              "['SubSampled_no_interaction_2_1616182454_1.mp4.npz',\n",
              " 'SubSampled_no_interaction_9_1616182974_1.mp4.npz',\n",
              " 'SubSampled_no_interaction_10_1616183029_1.mp4.npz',\n",
              " 'SubSampled_no_interaction_5_1616182692_1.mp4.npz']"
            ]
          },
          "metadata": {},
          "execution_count": 4
        }
      ]
    },
    {
      "cell_type": "code",
      "source": [
        "from glob import glob\n",
        "result_no_interaction = [y for x in os.walk(DATASET_no_interaction) for y in glob(os.path.join(x[0], '*.npz'))]\n",
        "videos_no_interaction = [r.split('/')[7] for r in result_no_interaction]\n",
        "\n",
        "labels_no_interaction = []\n",
        "for r in result_no_interaction:\n",
        "    label_feature = r.split('/')[6]\n",
        "    label = label_feature[:-9]\n",
        "    labels_no_interaction.append(label)"
      ],
      "metadata": {
        "id": "ys7szzQbY1L4"
      },
      "execution_count": null,
      "outputs": []
    },
    {
      "cell_type": "code",
      "source": [
        "import numpy as np"
      ],
      "metadata": {
        "id": "o-QJzUdoZSHL"
      },
      "execution_count": null,
      "outputs": []
    },
    {
      "cell_type": "code",
      "source": [
        "def extract_trajectories(keypoints):\n",
        "  trajectory = []\n",
        "  for _,k in keypoints:\n",
        "    if len(k) !=0: #removes data where nothing is happening\n",
        "      three_d_point = k[0,[0,1,3],:] #understand this code!!! look it up in the documentation\n",
        "      trajectory.append(three_d_point)\n",
        "\n",
        "  return trajectory"
      ],
      "metadata": {
        "id": "_nDP9-hIZYqw"
      },
      "execution_count": null,
      "outputs": []
    },
    {
      "cell_type": "code",
      "source": [
        "data_no_interaction = []\n",
        "result_no_interaction = []\n",
        "for video in videos_no_interaction:\n",
        "    data_no_interaction = np.load(video,allow_pickle = True)\n",
        "    trajectory = extract_trajectories(data_no_interaction[\"keypoints\"])\n",
        "    result_no_interaction.append(trajectory)"
      ],
      "metadata": {
        "id": "3H3vhomnZdAH"
      },
      "execution_count": null,
      "outputs": []
    },
    {
      "cell_type": "code",
      "source": [
        "DATASET_open_close = '/content/drive/My Drive/Iot_Checkpoints/SubSampled_Videos/open_close_fridge_features'\n",
        "os.listdir(DATASET_open_close)[:4]"
      ],
      "metadata": {
        "colab": {
          "base_uri": "https://localhost:8080/"
        },
        "id": "WifQ4b1UZCzi",
        "outputId": "f3d15ad2-05be-4cf3-b260-2a190bf17206"
      },
      "execution_count": null,
      "outputs": [
        {
          "output_type": "execute_result",
          "data": {
            "text/plain": [
              "['SubSampled_open_close_fridge_4_1613085604_1.mp4.npz',\n",
              " 'SubSampled_open_close_fridge_5_1615392827_1.mp4.npz',\n",
              " 'SubSampled_open_close_fridge_18_1615393749_1.mp4.npz',\n",
              " 'SubSampled_open_close_fridge_1_1613680613_1.mp4.npz']"
            ]
          },
          "metadata": {},
          "execution_count": 9
        }
      ]
    },
    {
      "cell_type": "code",
      "source": [
        "%cd /content/drive/My Drive/Iot_Checkpoints/SubSampled_Videos/open_close_fridge_features\n",
        "os.listdir('.')[:4]"
      ],
      "metadata": {
        "colab": {
          "base_uri": "https://localhost:8080/"
        },
        "id": "I_YY6juYcR25",
        "outputId": "794129a2-2179-4add-dba6-b5314ecc850e"
      },
      "execution_count": null,
      "outputs": [
        {
          "output_type": "stream",
          "name": "stdout",
          "text": [
            "/content/drive/.shortcut-targets-by-id/11uoUjnXa_0JKiMnhEb2WiTNyACQRegAl/Iot_Checkpoints/SubSampled_Videos/open_close_fridge_features\n"
          ]
        },
        {
          "output_type": "execute_result",
          "data": {
            "text/plain": [
              "['SubSampled_open_close_fridge_4_1613085604_1.mp4.npz',\n",
              " 'SubSampled_open_close_fridge_5_1615392827_1.mp4.npz',\n",
              " 'SubSampled_open_close_fridge_18_1615393749_1.mp4.npz',\n",
              " 'SubSampled_open_close_fridge_1_1613680613_1.mp4.npz']"
            ]
          },
          "metadata": {},
          "execution_count": 10
        }
      ]
    },
    {
      "cell_type": "code",
      "source": [
        "result_open_close = [y for x in os.walk(DATASET_open_close) for y in glob(os.path.join(x[0], '*.npz'))]\n",
        "videos_open_close = [r.split('/')[7] for r in result_open_close]\n",
        "labels_open_close = []\n",
        "for r in result_open_close:\n",
        "    label_feature = r.split('/')[6]\n",
        "    label = label_feature[:-9]\n",
        "    labels_open_close.append(label)"
      ],
      "metadata": {
        "id": "5YZvO-wGcc57"
      },
      "execution_count": null,
      "outputs": []
    },
    {
      "cell_type": "code",
      "source": [
        "data_open_close = []\n",
        "result_open_close = []\n",
        "for video in videos_open_close:\n",
        "    data_open_close = np.load(video,allow_pickle = True)\n",
        "    trajectory = extract_trajectories(data_open_close[\"keypoints\"])\n",
        "    result_open_close.append(trajectory)"
      ],
      "metadata": {
        "id": "qIGNli0YckO7"
      },
      "execution_count": null,
      "outputs": []
    },
    {
      "cell_type": "code",
      "source": [
        "DATASET_put_back = '/content/drive/My Drive/Iot_Checkpoints/SubSampled_Videos/put_back_item_features'\n",
        "os.listdir(DATASET_put_back)[:4]"
      ],
      "metadata": {
        "colab": {
          "base_uri": "https://localhost:8080/"
        },
        "id": "3P8uD_xXc61D",
        "outputId": "98dee376-3d1b-4b1c-bede-77031cb18796"
      },
      "execution_count": null,
      "outputs": [
        {
          "output_type": "execute_result",
          "data": {
            "text/plain": [
              "['SubSampled_put_back_item_2_1613086149_1.mp4.npz',\n",
              " 'SubSampled_put_back_item_4_1613086253_1.mp4.npz',\n",
              " 'SubSampled_put_back_item_5_1613086310_1.mp4.npz',\n",
              " 'SubSampled_put_back_item_1_1613086093_1.mp4.npz']"
            ]
          },
          "metadata": {},
          "execution_count": 13
        }
      ]
    },
    {
      "cell_type": "code",
      "source": [
        "%cd /content/drive/My Drive/Iot_Checkpoints/SubSampled_Videos/put_back_item_features\n",
        "os.listdir('.')[:4]"
      ],
      "metadata": {
        "colab": {
          "base_uri": "https://localhost:8080/"
        },
        "id": "jk5kPa5-dDJH",
        "outputId": "39d322f4-7e82-4633-f789-5074c96a4ba9"
      },
      "execution_count": null,
      "outputs": [
        {
          "output_type": "stream",
          "name": "stdout",
          "text": [
            "/content/drive/.shortcut-targets-by-id/11uoUjnXa_0JKiMnhEb2WiTNyACQRegAl/Iot_Checkpoints/SubSampled_Videos/put_back_item_features\n"
          ]
        },
        {
          "output_type": "execute_result",
          "data": {
            "text/plain": [
              "['SubSampled_put_back_item_2_1613086149_1.mp4.npz',\n",
              " 'SubSampled_put_back_item_4_1613086253_1.mp4.npz',\n",
              " 'SubSampled_put_back_item_5_1613086310_1.mp4.npz',\n",
              " 'SubSampled_put_back_item_1_1613086093_1.mp4.npz']"
            ]
          },
          "metadata": {},
          "execution_count": 14
        }
      ]
    },
    {
      "cell_type": "code",
      "source": [
        "result_put_back = [y for x in os.walk(DATASET_put_back) for y in glob(os.path.join(x[0], '*.npz'))]\n",
        "videos_put_back = [r.split('/')[7] for r in result_put_back]\n",
        "labels_put_back = []\n",
        "for r in result_put_back:\n",
        "    label_feature = r.split('/')[6]\n",
        "    label = label_feature[:-9]\n",
        "    labels_put_back.append(label)"
      ],
      "metadata": {
        "id": "APY8tkkydHG_"
      },
      "execution_count": null,
      "outputs": []
    },
    {
      "cell_type": "code",
      "source": [
        "data_put_back = []\n",
        "result_put_back = []\n",
        "for video in videos_put_back:\n",
        "    data_put_back = np.load(video,allow_pickle = True)\n",
        "    trajectory = extract_trajectories(data_put_back[\"keypoints\"])\n",
        "    result_put_back.append(trajectory)"
      ],
      "metadata": {
        "id": "eQhRucAGdZIg"
      },
      "execution_count": null,
      "outputs": []
    },
    {
      "cell_type": "code",
      "source": [
        "DATASET_screen_interaction = '/content/drive/My Drive/Iot_Checkpoints/SubSampled_Videos/screen_interaction_features'\n",
        "os.listdir(DATASET_screen_interaction)[:4]"
      ],
      "metadata": {
        "colab": {
          "base_uri": "https://localhost:8080/"
        },
        "id": "0U-CQ90edh_7",
        "outputId": "eaf11c4a-4c51-44e3-b5ff-003b85faea81"
      },
      "execution_count": null,
      "outputs": [
        {
          "output_type": "execute_result",
          "data": {
            "text/plain": [
              "['SubSampled_screen_interaction_6_1616181758_1.mp4.npz',\n",
              " 'SubSampled_screen_interaction_7_1616181874_1.mp4.npz',\n",
              " 'SubSampled_screen_interaction_9_1616182093_1.mp4.npz',\n",
              " 'SubSampled_screen_interaction_2_1616181306_1.mp4.npz']"
            ]
          },
          "metadata": {},
          "execution_count": 17
        }
      ]
    },
    {
      "cell_type": "code",
      "source": [
        "%cd /content/drive/My Drive/Iot_Checkpoints/SubSampled_Videos/screen_interaction_features\n",
        "os.listdir('.')[:4]"
      ],
      "metadata": {
        "colab": {
          "base_uri": "https://localhost:8080/"
        },
        "id": "p2MOddBQdrzj",
        "outputId": "f41a785e-aa4b-46be-ec44-761a87098418"
      },
      "execution_count": null,
      "outputs": [
        {
          "output_type": "stream",
          "name": "stdout",
          "text": [
            "/content/drive/.shortcut-targets-by-id/11uoUjnXa_0JKiMnhEb2WiTNyACQRegAl/Iot_Checkpoints/SubSampled_Videos/screen_interaction_features\n"
          ]
        },
        {
          "output_type": "execute_result",
          "data": {
            "text/plain": [
              "['SubSampled_screen_interaction_6_1616181758_1.mp4.npz',\n",
              " 'SubSampled_screen_interaction_7_1616181874_1.mp4.npz',\n",
              " 'SubSampled_screen_interaction_9_1616182093_1.mp4.npz',\n",
              " 'SubSampled_screen_interaction_2_1616181306_1.mp4.npz']"
            ]
          },
          "metadata": {},
          "execution_count": 18
        }
      ]
    },
    {
      "cell_type": "code",
      "source": [
        "result_screen_interaction = [y for x in os.walk(DATASET_screen_interaction) for y in glob(os.path.join(x[0], '*.npz'))]\n",
        "videos_screen_interaction = [r.split('/')[7] for r in result_screen_interaction]\n",
        "labels_screen_interaction = []\n",
        "for r in result_screen_interaction:\n",
        "    label_feature = r.split('/')[6]\n",
        "    label = label_feature[:-9]\n",
        "    labels_screen_interaction.append(label)"
      ],
      "metadata": {
        "id": "2aCZNEAwdvx9"
      },
      "execution_count": null,
      "outputs": []
    },
    {
      "cell_type": "code",
      "source": [
        "data_screen_interaction = []\n",
        "result_screen_interaction = []\n",
        "for video in videos_screen_interaction:\n",
        "    data_screen_interaction = np.load(video,allow_pickle = True)\n",
        "    trajectory = extract_trajectories(data_screen_interaction[\"keypoints\"])\n",
        "    result_screen_interaction.append(trajectory)"
      ],
      "metadata": {
        "id": "u1244h4sd3_y"
      },
      "execution_count": null,
      "outputs": []
    },
    {
      "cell_type": "code",
      "source": [
        "DATASET_take_out = '/content/drive/My Drive/Iot_Checkpoints/SubSampled_Videos/take_out_item_features'\n",
        "os.listdir(DATASET_take_out)[:4]"
      ],
      "metadata": {
        "colab": {
          "base_uri": "https://localhost:8080/"
        },
        "id": "qIrLgdNkeEmj",
        "outputId": "93a01f49-ddeb-4e48-8866-7f90a404ede3"
      },
      "execution_count": null,
      "outputs": [
        {
          "output_type": "execute_result",
          "data": {
            "text/plain": [
              "['SubSampled_take_out_item_3_1616179525_1.mp4.npz',\n",
              " 'SubSampled_take_out_item_10_1616180475_1.mp4.npz',\n",
              " 'SubSampled_take_out_item_8_1616180240_1.mp4.npz',\n",
              " 'SubSampled_take_out_item_5_1616180001_1.mp4.npz']"
            ]
          },
          "metadata": {},
          "execution_count": 21
        }
      ]
    },
    {
      "cell_type": "code",
      "source": [
        "%cd /content/drive/My Drive/Iot_Checkpoints/SubSampled_Videos/take_out_item_features\n",
        "os.listdir('.')[:4]"
      ],
      "metadata": {
        "colab": {
          "base_uri": "https://localhost:8080/"
        },
        "id": "DRnR9nQ1eLwF",
        "outputId": "932e65eb-d3b8-460b-be4f-9e7ac019792c"
      },
      "execution_count": null,
      "outputs": [
        {
          "output_type": "stream",
          "name": "stdout",
          "text": [
            "/content/drive/.shortcut-targets-by-id/11uoUjnXa_0JKiMnhEb2WiTNyACQRegAl/Iot_Checkpoints/SubSampled_Videos/take_out_item_features\n"
          ]
        },
        {
          "output_type": "execute_result",
          "data": {
            "text/plain": [
              "['SubSampled_take_out_item_3_1616179525_1.mp4.npz',\n",
              " 'SubSampled_take_out_item_10_1616180475_1.mp4.npz',\n",
              " 'SubSampled_take_out_item_8_1616180240_1.mp4.npz',\n",
              " 'SubSampled_take_out_item_5_1616180001_1.mp4.npz']"
            ]
          },
          "metadata": {},
          "execution_count": 22
        }
      ]
    },
    {
      "cell_type": "code",
      "source": [
        "result_take_out = [y for x in os.walk(DATASET_take_out) for y in glob(os.path.join(x[0], '*.npz'))]\n",
        "videos_take_out = [r.split('/')[7] for r in result_take_out]\n",
        "labels_take_out = []\n",
        "for r in result_take_out:\n",
        "    label_feature = r.split('/')[6]\n",
        "    label = label_feature[:-9]\n",
        "    labels_take_out.append(label)"
      ],
      "metadata": {
        "id": "jJkKFbr2eRdM"
      },
      "execution_count": null,
      "outputs": []
    },
    {
      "cell_type": "code",
      "source": [
        "data_take_out = []\n",
        "result_take_out = []\n",
        "for video in videos_take_out:\n",
        "    data_take_out = np.load(video,allow_pickle = True)\n",
        "    trajectory = extract_trajectories(data_take_out[\"keypoints\"])\n",
        "    result_take_out.append(trajectory)"
      ],
      "metadata": {
        "id": "JxkDbltGeb-3"
      },
      "execution_count": null,
      "outputs": []
    },
    {
      "cell_type": "code",
      "source": [
        "results = [result_no_interaction,result_open_close,result_put_back,result_screen_interaction,result_take_out]"
      ],
      "metadata": {
        "id": "_J0j5M-cel9J"
      },
      "execution_count": null,
      "outputs": []
    },
    {
      "cell_type": "code",
      "source": [
        "labels = [labels_no_interaction,labels_open_close,labels_put_back,labels_screen_interaction,labels_take_out]"
      ],
      "metadata": {
        "id": "oYMOkFGxk19v"
      },
      "execution_count": null,
      "outputs": []
    },
    {
      "cell_type": "markdown",
      "source": [
        "**Split dataset**"
      ],
      "metadata": {
        "id": "YpZuKYX2fSxX"
      }
    },
    {
      "cell_type": "markdown",
      "source": [
        "Method 1: Split"
      ],
      "metadata": {
        "id": "KY4pHkTdxFQ6"
      }
    },
    {
      "cell_type": "code",
      "source": [
        "from sklearn.model_selection import train_test_split"
      ],
      "metadata": {
        "id": "p0Y3a7OJk_qS"
      },
      "execution_count": null,
      "outputs": []
    },
    {
      "cell_type": "code",
      "source": [
        "# Split\n",
        "def create_dataset(X,Y):\n",
        "    ''' CreateDataset: creates a training dataset and validation dataset\n",
        "        Input: Directory with a collection of vectors of fixed dimension for each video\n",
        "        Output: A training set (X_train,Y_train), a validation (X_test, Y_test)\n",
        "        \n",
        "    '''\n",
        "    X_train = []\n",
        "    X_test = []\n",
        "    Y_train = []\n",
        "    Y_test = []\n",
        "    for i in range(len(X)):\n",
        "        x_train,x_test,y_train,y_test = train_test_split(results[i],labels[i],test_size =0.3)\n",
        "        for item in x_train:\n",
        "            X_train.append(item)\n",
        "        for item in y_train:\n",
        "            Y_train.append(item)\n",
        "        for item in x_test:\n",
        "            X_test.append(item)\n",
        "        for item in y_test:\n",
        "            Y_test.append(item)\n",
        "\n",
        "    maximum_x_train = float('-inf')\n",
        "    for i in range(len(X_train)):\n",
        "        n_x_train = np.array(X_train[i]).shape[0]\n",
        "        maximum_x_train = max(maximum_x_train,n_x_train)\n",
        "    maximum_x_test = float('-inf')\n",
        "    for i in range(len(X_test)):\n",
        "        n_x_test = np.array(X_test[i]).shape[0]\n",
        "        maximum_x_test = max(maximum_x_train,n_x_test)\n",
        "\n",
        "    if maximum_x_test < maximum_x_train:\n",
        "        for i in range(len(X_test)):\n",
        "            for m in range(len(X_test[i]),maximum_x_train+1):\n",
        "                 print(np.array(X_test[i]).shape)\n",
        "                 X_test[i].append(np.zeros((3,17)))\n",
        "        for i in range(len(X_train)):\n",
        "            for m in range(len(X_train[i]),maximum_x_train+1):\n",
        "                 X_train[i].append(np.zeros((3,17)))\n",
        "    else:\n",
        "        for i in range(len(X_test)):\n",
        "            for m in range(len(X_test[i]),maximum_x_test+1):\n",
        "                 X_test[i].append(np.zeros((3,17)))\n",
        "        for i in range(len(X_train)):\n",
        "            for m in range(len(X_train[i]),maximum_x_test+1):\n",
        "                 X_train[i].append(np.zeros((3,17)))\n",
        "     \n",
        "    return (X_train, Y_train), (X_test, Y_test)"
      ],
      "metadata": {
        "id": "vbwOnQtrkvON"
      },
      "execution_count": null,
      "outputs": []
    },
    {
      "cell_type": "code",
      "source": [
        "train, test = create_dataset(results,labels)"
      ],
      "metadata": {
        "id": "WeR4J_IAnEzo"
      },
      "execution_count": null,
      "outputs": []
    },
    {
      "cell_type": "code",
      "source": [
        "X_train = train[0]\n",
        "Y_train = train[1]\n",
        "X_test = test[0]\n",
        "Y_test = test[1]"
      ],
      "metadata": {
        "id": "gYxNko5SvrvV"
      },
      "execution_count": null,
      "outputs": []
    },
    {
      "cell_type": "code",
      "source": [
        "np.array(X_train).shape"
      ],
      "metadata": {
        "colab": {
          "base_uri": "https://localhost:8080/"
        },
        "id": "n_U7dThINSml",
        "outputId": "cd0f1df7-8fe1-4170-acc1-ecf8c5a597cd"
      },
      "execution_count": null,
      "outputs": [
        {
          "output_type": "execute_result",
          "data": {
            "text/plain": [
              "(151, 103, 3, 17)"
            ]
          },
          "metadata": {},
          "execution_count": 49
        }
      ]
    },
    {
      "cell_type": "code",
      "source": [
        "np.array(X_test).shape"
      ],
      "metadata": {
        "colab": {
          "base_uri": "https://localhost:8080/"
        },
        "id": "YVbkkG5DgKVH",
        "outputId": "07c1fd52-a96d-45f4-fe34-137916f51528"
      },
      "execution_count": null,
      "outputs": [
        {
          "output_type": "execute_result",
          "data": {
            "text/plain": [
              "(67, 103, 3, 17)"
            ]
          },
          "metadata": {},
          "execution_count": 50
        }
      ]
    },
    {
      "cell_type": "code",
      "source": [
        "d2_train_dataset = np.array(X_train).reshape((151,103*3*17))"
      ],
      "metadata": {
        "id": "tiT9bFHxX1EZ"
      },
      "execution_count": null,
      "outputs": []
    },
    {
      "cell_type": "code",
      "source": [
        "d2_test_dataset = np.array(X_test).reshape((67,103*3*17))"
      ],
      "metadata": {
        "id": "kScze32aY-3I"
      },
      "execution_count": null,
      "outputs": []
    },
    {
      "cell_type": "markdown",
      "source": [
        "**Decision Tree**"
      ],
      "metadata": {
        "id": "mV0udU4c4M9c"
      }
    },
    {
      "cell_type": "code",
      "source": [
        "from sklearn.tree import DecisionTreeClassifier"
      ],
      "metadata": {
        "id": "qeI7UqYF4PT7"
      },
      "execution_count": null,
      "outputs": []
    },
    {
      "cell_type": "code",
      "source": [
        "dtree = DecisionTreeClassifier()"
      ],
      "metadata": {
        "id": "1gWKPkT_4SwA"
      },
      "execution_count": null,
      "outputs": []
    },
    {
      "cell_type": "code",
      "source": [
        "dtree.fit(d2_train_dataset,Y_train)"
      ],
      "metadata": {
        "colab": {
          "base_uri": "https://localhost:8080/"
        },
        "id": "08GiyaOu4zuU",
        "outputId": "f67ea755-038d-4923-9a12-13f2b68306f4"
      },
      "execution_count": null,
      "outputs": [
        {
          "output_type": "execute_result",
          "data": {
            "text/plain": [
              "DecisionTreeClassifier()"
            ]
          },
          "metadata": {},
          "execution_count": 55
        }
      ]
    },
    {
      "cell_type": "code",
      "source": [
        "predictions_1 = dtree.predict(d2_test_dataset)"
      ],
      "metadata": {
        "id": "5IBwx8GLY5A3"
      },
      "execution_count": null,
      "outputs": []
    },
    {
      "cell_type": "code",
      "source": [
        "from sklearn.metrics import classification_report,confusion_matrix"
      ],
      "metadata": {
        "id": "_f3k5l5FZOug"
      },
      "execution_count": null,
      "outputs": []
    },
    {
      "cell_type": "code",
      "source": [
        "print(classification_report(Y_test,predictions_1))"
      ],
      "metadata": {
        "colab": {
          "base_uri": "https://localhost:8080/"
        },
        "id": "YoL5lQ4jZSsr",
        "outputId": "b61748eb-f3a9-4571-c53c-ed7584f9bb65"
      },
      "execution_count": null,
      "outputs": [
        {
          "output_type": "stream",
          "name": "stdout",
          "text": [
            "                    precision    recall  f1-score   support\n",
            "\n",
            "    no_interaction       0.62      0.56      0.59         9\n",
            " open_close_fridge       0.40      0.48      0.43        21\n",
            "     put_back_item       0.11      0.09      0.10        11\n",
            "screen_interaction       0.75      1.00      0.86         9\n",
            "     take_out_item       0.31      0.24      0.27        17\n",
            "\n",
            "          accuracy                           0.43        67\n",
            "         macro avg       0.44      0.47      0.45        67\n",
            "      weighted avg       0.41      0.43      0.41        67\n",
            "\n"
          ]
        }
      ]
    },
    {
      "cell_type": "code",
      "source": [
        "print(confusion_matrix(Y_test,predictions_1))"
      ],
      "metadata": {
        "colab": {
          "base_uri": "https://localhost:8080/"
        },
        "id": "LAA8fXIbav_y",
        "outputId": "8ee0c62d-cfb2-423e-b0db-f030091d9ebb"
      },
      "execution_count": null,
      "outputs": [
        {
          "output_type": "stream",
          "name": "stdout",
          "text": [
            "[[ 5  2  0  2  0]\n",
            " [ 1 10  4  0  6]\n",
            " [ 1  6  1  0  3]\n",
            " [ 0  0  0  9  0]\n",
            " [ 1  7  4  1  4]]\n"
          ]
        }
      ]
    },
    {
      "cell_type": "markdown",
      "source": [
        "**Random Forest**"
      ],
      "metadata": {
        "id": "jtnFGPKTa6AG"
      }
    },
    {
      "cell_type": "code",
      "source": [
        "from sklearn.ensemble import RandomForestClassifier"
      ],
      "metadata": {
        "id": "B5zVDJona7hz"
      },
      "execution_count": null,
      "outputs": []
    },
    {
      "cell_type": "code",
      "source": [
        "rfc = RandomForestClassifier(n_estimators=600)"
      ],
      "metadata": {
        "id": "Kq-I02Sia_CQ"
      },
      "execution_count": null,
      "outputs": []
    },
    {
      "cell_type": "code",
      "source": [
        "rfc.fit(d2_train_dataset,Y_train)"
      ],
      "metadata": {
        "colab": {
          "base_uri": "https://localhost:8080/"
        },
        "id": "pC1pzG7YbKPg",
        "outputId": "99957367-b657-4c12-8fe6-114093463b5a"
      },
      "execution_count": null,
      "outputs": [
        {
          "output_type": "execute_result",
          "data": {
            "text/plain": [
              "RandomForestClassifier(n_estimators=600)"
            ]
          },
          "metadata": {},
          "execution_count": 63
        }
      ]
    },
    {
      "cell_type": "code",
      "source": [
        "predictions_2 = rfc.predict(d2_test_dataset)"
      ],
      "metadata": {
        "id": "CxdnVkK7bO7w"
      },
      "execution_count": null,
      "outputs": []
    },
    {
      "cell_type": "code",
      "source": [
        "print(classification_report(Y_test,predictions_2))"
      ],
      "metadata": {
        "colab": {
          "base_uri": "https://localhost:8080/"
        },
        "id": "q8SVrIjibWAp",
        "outputId": "6b075051-eeb9-4833-e5f3-a544d02d219c"
      },
      "execution_count": null,
      "outputs": [
        {
          "output_type": "stream",
          "name": "stdout",
          "text": [
            "                    precision    recall  f1-score   support\n",
            "\n",
            "    no_interaction       0.67      0.44      0.53         9\n",
            " open_close_fridge       0.71      0.71      0.71        21\n",
            "     put_back_item       0.57      0.36      0.44        11\n",
            "screen_interaction       0.67      0.89      0.76         9\n",
            "     take_out_item       0.62      0.76      0.68        17\n",
            "\n",
            "          accuracy                           0.66        67\n",
            "         macro avg       0.65      0.64      0.63        67\n",
            "      weighted avg       0.65      0.66      0.64        67\n",
            "\n"
          ]
        }
      ]
    },
    {
      "cell_type": "code",
      "source": [
        "print(confusion_matrix(Y_test,predictions_2))"
      ],
      "metadata": {
        "colab": {
          "base_uri": "https://localhost:8080/"
        },
        "id": "Lqgp6Z0TonTw",
        "outputId": "e1d8c3b1-0be2-43a5-d900-f0a2f728130d"
      },
      "execution_count": null,
      "outputs": [
        {
          "output_type": "stream",
          "name": "stdout",
          "text": [
            "[[ 4  2  0  3  0]\n",
            " [ 1 15  1  1  3]\n",
            " [ 1  2  4  0  4]\n",
            " [ 0  0  0  8  1]\n",
            " [ 0  2  2  0 13]]\n"
          ]
        }
      ]
    },
    {
      "cell_type": "markdown",
      "source": [
        "**SVM**"
      ],
      "metadata": {
        "id": "xdY2phyZcedp"
      }
    },
    {
      "cell_type": "code",
      "source": [
        "from sklearn.svm import SVC"
      ],
      "metadata": {
        "id": "2Nu7OXQ8jAc6"
      },
      "execution_count": null,
      "outputs": []
    },
    {
      "cell_type": "code",
      "source": [
        "from sklearn.model_selection import GridSearchCV"
      ],
      "metadata": {
        "id": "fYbNBb0kcf3C"
      },
      "execution_count": null,
      "outputs": []
    },
    {
      "cell_type": "code",
      "source": [
        "param_grid = {'C': [0.1,1, 10, 100], 'gamma': [1,0.1,0.01,0.001]} "
      ],
      "metadata": {
        "id": "S2rDqzxUcibE"
      },
      "execution_count": null,
      "outputs": []
    },
    {
      "cell_type": "code",
      "source": [
        "grid = GridSearchCV(SVC(),param_grid,refit=True,verbose=2)\n",
        "grid.fit(d2_train_dataset,Y_train)"
      ],
      "metadata": {
        "colab": {
          "base_uri": "https://localhost:8080/"
        },
        "id": "kgHCHNOFck57",
        "outputId": "3889d930-2b6b-49da-cba7-1c2d05ad46dd"
      },
      "execution_count": null,
      "outputs": [
        {
          "output_type": "stream",
          "name": "stdout",
          "text": [
            "Fitting 5 folds for each of 16 candidates, totalling 80 fits\n",
            "[CV] END .....................................C=0.1, gamma=1; total time=   0.1s\n",
            "[CV] END .....................................C=0.1, gamma=1; total time=   0.1s\n",
            "[CV] END .....................................C=0.1, gamma=1; total time=   0.1s\n",
            "[CV] END .....................................C=0.1, gamma=1; total time=   0.1s\n",
            "[CV] END .....................................C=0.1, gamma=1; total time=   0.1s\n",
            "[CV] END ...................................C=0.1, gamma=0.1; total time=   0.1s\n",
            "[CV] END ...................................C=0.1, gamma=0.1; total time=   0.1s\n",
            "[CV] END ...................................C=0.1, gamma=0.1; total time=   0.1s\n",
            "[CV] END ...................................C=0.1, gamma=0.1; total time=   0.1s\n",
            "[CV] END ...................................C=0.1, gamma=0.1; total time=   0.1s\n",
            "[CV] END ..................................C=0.1, gamma=0.01; total time=   0.1s\n",
            "[CV] END ..................................C=0.1, gamma=0.01; total time=   0.1s\n",
            "[CV] END ..................................C=0.1, gamma=0.01; total time=   0.1s\n",
            "[CV] END ..................................C=0.1, gamma=0.01; total time=   0.1s\n",
            "[CV] END ..................................C=0.1, gamma=0.01; total time=   0.1s\n",
            "[CV] END .................................C=0.1, gamma=0.001; total time=   0.1s\n",
            "[CV] END .................................C=0.1, gamma=0.001; total time=   0.1s\n",
            "[CV] END .................................C=0.1, gamma=0.001; total time=   0.1s\n",
            "[CV] END .................................C=0.1, gamma=0.001; total time=   0.1s\n",
            "[CV] END .................................C=0.1, gamma=0.001; total time=   0.1s\n",
            "[CV] END .......................................C=1, gamma=1; total time=   0.1s\n",
            "[CV] END .......................................C=1, gamma=1; total time=   0.1s\n",
            "[CV] END .......................................C=1, gamma=1; total time=   0.1s\n",
            "[CV] END .......................................C=1, gamma=1; total time=   0.1s\n",
            "[CV] END .......................................C=1, gamma=1; total time=   0.1s\n",
            "[CV] END .....................................C=1, gamma=0.1; total time=   0.1s\n",
            "[CV] END .....................................C=1, gamma=0.1; total time=   0.1s\n",
            "[CV] END .....................................C=1, gamma=0.1; total time=   0.1s\n",
            "[CV] END .....................................C=1, gamma=0.1; total time=   0.1s\n",
            "[CV] END .....................................C=1, gamma=0.1; total time=   0.1s\n",
            "[CV] END ....................................C=1, gamma=0.01; total time=   0.1s\n",
            "[CV] END ....................................C=1, gamma=0.01; total time=   0.1s\n",
            "[CV] END ....................................C=1, gamma=0.01; total time=   0.1s\n",
            "[CV] END ....................................C=1, gamma=0.01; total time=   0.1s\n",
            "[CV] END ....................................C=1, gamma=0.01; total time=   0.1s\n",
            "[CV] END ...................................C=1, gamma=0.001; total time=   0.1s\n",
            "[CV] END ...................................C=1, gamma=0.001; total time=   0.1s\n",
            "[CV] END ...................................C=1, gamma=0.001; total time=   0.1s\n",
            "[CV] END ...................................C=1, gamma=0.001; total time=   0.1s\n",
            "[CV] END ...................................C=1, gamma=0.001; total time=   0.1s\n",
            "[CV] END ......................................C=10, gamma=1; total time=   0.1s\n",
            "[CV] END ......................................C=10, gamma=1; total time=   0.1s\n",
            "[CV] END ......................................C=10, gamma=1; total time=   0.1s\n",
            "[CV] END ......................................C=10, gamma=1; total time=   0.1s\n",
            "[CV] END ......................................C=10, gamma=1; total time=   0.1s\n",
            "[CV] END ....................................C=10, gamma=0.1; total time=   0.1s\n",
            "[CV] END ....................................C=10, gamma=0.1; total time=   0.1s\n",
            "[CV] END ....................................C=10, gamma=0.1; total time=   0.1s\n",
            "[CV] END ....................................C=10, gamma=0.1; total time=   0.1s\n",
            "[CV] END ....................................C=10, gamma=0.1; total time=   0.1s\n",
            "[CV] END ...................................C=10, gamma=0.01; total time=   0.1s\n",
            "[CV] END ...................................C=10, gamma=0.01; total time=   0.1s\n",
            "[CV] END ...................................C=10, gamma=0.01; total time=   0.1s\n",
            "[CV] END ...................................C=10, gamma=0.01; total time=   0.1s\n",
            "[CV] END ...................................C=10, gamma=0.01; total time=   0.1s\n",
            "[CV] END ..................................C=10, gamma=0.001; total time=   0.1s\n",
            "[CV] END ..................................C=10, gamma=0.001; total time=   0.1s\n",
            "[CV] END ..................................C=10, gamma=0.001; total time=   0.1s\n",
            "[CV] END ..................................C=10, gamma=0.001; total time=   0.1s\n",
            "[CV] END ..................................C=10, gamma=0.001; total time=   0.1s\n",
            "[CV] END .....................................C=100, gamma=1; total time=   0.2s\n",
            "[CV] END .....................................C=100, gamma=1; total time=   0.2s\n",
            "[CV] END .....................................C=100, gamma=1; total time=   0.1s\n",
            "[CV] END .....................................C=100, gamma=1; total time=   0.1s\n",
            "[CV] END .....................................C=100, gamma=1; total time=   0.1s\n",
            "[CV] END ...................................C=100, gamma=0.1; total time=   0.1s\n",
            "[CV] END ...................................C=100, gamma=0.1; total time=   0.1s\n",
            "[CV] END ...................................C=100, gamma=0.1; total time=   0.1s\n",
            "[CV] END ...................................C=100, gamma=0.1; total time=   0.1s\n",
            "[CV] END ...................................C=100, gamma=0.1; total time=   0.1s\n",
            "[CV] END ..................................C=100, gamma=0.01; total time=   0.1s\n",
            "[CV] END ..................................C=100, gamma=0.01; total time=   0.1s\n",
            "[CV] END ..................................C=100, gamma=0.01; total time=   0.1s\n",
            "[CV] END ..................................C=100, gamma=0.01; total time=   0.1s\n",
            "[CV] END ..................................C=100, gamma=0.01; total time=   0.1s\n",
            "[CV] END .................................C=100, gamma=0.001; total time=   0.1s\n",
            "[CV] END .................................C=100, gamma=0.001; total time=   0.1s\n",
            "[CV] END .................................C=100, gamma=0.001; total time=   0.1s\n",
            "[CV] END .................................C=100, gamma=0.001; total time=   0.1s\n",
            "[CV] END .................................C=100, gamma=0.001; total time=   0.1s\n"
          ]
        },
        {
          "output_type": "execute_result",
          "data": {
            "text/plain": [
              "GridSearchCV(estimator=SVC(),\n",
              "             param_grid={'C': [0.1, 1, 10, 100],\n",
              "                         'gamma': [1, 0.1, 0.01, 0.001]},\n",
              "             verbose=2)"
            ]
          },
          "metadata": {},
          "execution_count": 70
        }
      ]
    },
    {
      "cell_type": "code",
      "source": [
        "grid_predictions = grid.predict(d2_test_dataset)"
      ],
      "metadata": {
        "id": "gXbwbn7Ucs-V"
      },
      "execution_count": null,
      "outputs": []
    },
    {
      "cell_type": "code",
      "source": [
        "print(classification_report(Y_test,grid_predictions))"
      ],
      "metadata": {
        "colab": {
          "base_uri": "https://localhost:8080/"
        },
        "id": "TJJsiz5Hc2Pz",
        "outputId": "914e6630-ba30-4e64-8779-8003b4167c02"
      },
      "execution_count": null,
      "outputs": [
        {
          "output_type": "stream",
          "name": "stdout",
          "text": [
            "                    precision    recall  f1-score   support\n",
            "\n",
            "    no_interaction       0.00      0.00      0.00         9\n",
            " open_close_fridge       0.31      1.00      0.48        21\n",
            "     put_back_item       0.00      0.00      0.00        11\n",
            "screen_interaction       0.00      0.00      0.00         9\n",
            "     take_out_item       0.00      0.00      0.00        17\n",
            "\n",
            "          accuracy                           0.31        67\n",
            "         macro avg       0.06      0.20      0.10        67\n",
            "      weighted avg       0.10      0.31      0.15        67\n",
            "\n"
          ]
        },
        {
          "output_type": "stream",
          "name": "stderr",
          "text": [
            "/usr/local/lib/python3.7/dist-packages/sklearn/metrics/_classification.py:1318: UndefinedMetricWarning: Precision and F-score are ill-defined and being set to 0.0 in labels with no predicted samples. Use `zero_division` parameter to control this behavior.\n",
            "  _warn_prf(average, modifier, msg_start, len(result))\n",
            "/usr/local/lib/python3.7/dist-packages/sklearn/metrics/_classification.py:1318: UndefinedMetricWarning: Precision and F-score are ill-defined and being set to 0.0 in labels with no predicted samples. Use `zero_division` parameter to control this behavior.\n",
            "  _warn_prf(average, modifier, msg_start, len(result))\n",
            "/usr/local/lib/python3.7/dist-packages/sklearn/metrics/_classification.py:1318: UndefinedMetricWarning: Precision and F-score are ill-defined and being set to 0.0 in labels with no predicted samples. Use `zero_division` parameter to control this behavior.\n",
            "  _warn_prf(average, modifier, msg_start, len(result))\n"
          ]
        }
      ]
    }
  ]
}